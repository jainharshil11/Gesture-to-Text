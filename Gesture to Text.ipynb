{
 "cells": [
  {
   "cell_type": "code",
   "execution_count": 2,
   "metadata": {},
   "outputs": [
    {
     "name": "stderr",
     "output_type": "stream",
     "text": [
      "Using TensorFlow backend.\n"
     ]
    }
   ],
   "source": [
    "import numpy as np\n",
    "import matplotlib.pyplot as plt\n",
    "from random import randint\n",
    "from sklearn.preprocessing import StandardScaler\n",
    "import keras\n",
    "import pandas as pd\n",
    "import time\n",
    "from keras import backend as K\n",
    "from keras.models import Sequential\n",
    "from keras.layers import LeakyReLU\n",
    "from keras.layers import Activation\n",
    "from keras.layers import Dense\n",
    "from keras.layers import ReLU\n",
    "from keras.layers import GaussianNoise\n",
    "from keras.utils import to_categorical\n",
    "from keras import regularizers\n",
    "from keras.layers import Dropout,GaussianDropout\n",
    "from keras.layers.convolutional import Conv2D\n",
    "from keras.layers.convolutional import MaxPooling2D\n",
    "from keras.layers import Flatten"
   ]
  },
  {
   "cell_type": "code",
   "execution_count": 3,
   "metadata": {},
   "outputs": [],
   "source": [
    "train_data = pd.read_csv('C:/Users/Dell_Owner/Desktop/sign_mnist_train.csv')\n",
    "test_data = pd.read_csv('C:/Users/Dell_Owner/Desktop/sign_mnist_test.csv')\n"
   ]
  },
  {
   "cell_type": "code",
   "execution_count": 4,
   "metadata": {},
   "outputs": [],
   "source": [
    "train = np.array(train_data[train_data.columns[train_data.columns!='label']])\n",
    "train_label = np.array(train_data['label'])"
   ]
  },
  {
   "cell_type": "code",
   "execution_count": 5,
   "metadata": {},
   "outputs": [],
   "source": [
    "test = np.array(test_data[test_data.columns[test_data.columns!='label']])\n",
    "test_label = np.array(test_data['label'])\n"
   ]
  },
  {
   "cell_type": "code",
   "execution_count": 6,
   "metadata": {},
   "outputs": [],
   "source": [
    "train_label = to_categorical(train_label)\n",
    "test_label = to_categorical(test_label)"
   ]
  },
  {
   "cell_type": "code",
   "execution_count": 7,
   "metadata": {},
   "outputs": [
    {
     "name": "stdout",
     "output_type": "stream",
     "text": [
      "(7172, 25)\n"
     ]
    }
   ],
   "source": [
    "print(test_label.shape)\n",
    "numberofclasses = test_label.shape[1]"
   ]
  },
  {
   "cell_type": "code",
   "execution_count": 8,
   "metadata": {},
   "outputs": [],
   "source": [
    "train = train.reshape(train.shape[0],28,28,1)\n",
    "test = test.reshape(test.shape[0],28,28,1)"
   ]
  },
  {
   "cell_type": "code",
   "execution_count": 9,
   "metadata": {},
   "outputs": [],
   "source": [
    "train = train/255\n",
    "test = test/255"
   ]
  },
  {
   "cell_type": "code",
   "execution_count": 10,
   "metadata": {},
   "outputs": [],
   "source": [
    "model = Sequential()"
   ]
  },
  {
   "cell_type": "code",
   "execution_count": 11,
   "metadata": {},
   "outputs": [
    {
     "name": "stdout",
     "output_type": "stream",
     "text": [
      "WARNING:tensorflow:From C:\\Users\\Dell_Owner\\AppData\\Local\\Programs\\Python\\Python36\\lib\\site-packages\\tensorflow\\python\\ops\\control_flow_ops.py:423: colocate_with (from tensorflow.python.framework.ops) is deprecated and will be removed in a future version.\n",
      "Instructions for updating:\n",
      "Colocations handled automatically by placer.\n",
      "WARNING:tensorflow:From C:\\Users\\Dell_Owner\\AppData\\Local\\Programs\\Python\\Python36\\lib\\site-packages\\keras\\backend\\tensorflow_backend.py:3445: calling dropout (from tensorflow.python.ops.nn_ops) with keep_prob is deprecated and will be removed in a future version.\n",
      "Instructions for updating:\n",
      "Please use `rate` instead of `keep_prob`. Rate should be set to `rate = 1 - keep_prob`.\n"
     ]
    }
   ],
   "source": [
    "model.add(GaussianNoise(0.1,input_shape=(28,28,1)))\n",
    "model.add(Conv2D(150,kernel_size = (3,3),strides = (1,1),padding = 'same',activation = 'relu',input_shape = (28,28,1)))\n",
    "model.add(LeakyReLU(alpha=0.25))\n",
    "model.add(MaxPooling2D(pool_size=(2, 2), strides=(1, 1),padding = 'same'))\n",
    "model.add(Conv2D(100,kernel_size = (2,2),strides = (1,1),padding = 'same',activation = 'relu'))\n",
    "model.add(LeakyReLU(alpha=0.25))\n",
    "model.add(MaxPooling2D(pool_size=(2, 2), strides=(1, 1),padding = 'same'))\n",
    "model.add(Conv2D(50,kernel_size = (2,2),strides = (1,1),padding = 'same',activation = 'relu'))\n",
    "model.add(LeakyReLU(alpha=0.25))\n",
    "model.add(MaxPooling2D(pool_size=(2, 2), strides=(1, 1),padding = 'same'))\n",
    "model.add(Conv2D(25,kernel_size = (3,3),strides = (1,1),padding = 'same',activation = 'relu'))\n",
    "model.add(LeakyReLU(alpha=0.25))\n",
    "model.add(MaxPooling2D(pool_size=(2, 2), strides=(1, 1),padding = 'same'))\n",
    "model.add(Flatten())\n",
    "model.add(Dropout(0.2))\n",
    "model.add(Dense(300,activation = 'relu'))\n",
    "model.add(GaussianDropout(0.2))\n",
    "model.add(Dense(400,activation = 'relu'))\n",
    "model.add(Dropout(0.2))\n",
    "model.add(Dense(300,activation = 'relu'))\n",
    "model.add(GaussianDropout(0.2))\n",
    "model.add(Dense(350,activation = 'relu'))\n",
    "model.add(Dropout(0.2))\n",
    "model.add(Dense(400,activation = 'relu'))\n",
    "model.add(Dropout(0.2))\n",
    "model.add(Dense(numberofclasses,activation = 'softmax'))"
   ]
  },
  {
   "cell_type": "code",
   "execution_count": 12,
   "metadata": {},
   "outputs": [],
   "source": [
    "model.compile(optimizer='rmsprop',loss='categorical_crossentropy',metrics=['accuracy'])"
   ]
  },
  {
   "cell_type": "code",
   "execution_count": 13,
   "metadata": {},
   "outputs": [
    {
     "name": "stdout",
     "output_type": "stream",
     "text": [
      "WARNING:tensorflow:From C:\\Users\\Dell_Owner\\AppData\\Local\\Programs\\Python\\Python36\\lib\\site-packages\\tensorflow\\python\\ops\\math_ops.py:3066: to_int32 (from tensorflow.python.ops.math_ops) is deprecated and will be removed in a future version.\n",
      "Instructions for updating:\n",
      "Use tf.cast instead.\n",
      "Train on 27455 samples, validate on 7172 samples\n",
      "Epoch 1/20\n",
      "27455/27455 [==============================] - 847s 31ms/step - loss: 1.6497 - acc: 0.4735 - val_loss: 0.6550 - val_acc: 0.7885\n",
      "Epoch 2/20\n",
      "27455/27455 [==============================] - 753s 27ms/step - loss: 0.2987 - acc: 0.9143 - val_loss: 0.5539 - val_acc: 0.8982\n",
      "Epoch 3/20\n",
      "27455/27455 [==============================] - 750s 27ms/step - loss: 0.2170 - acc: 0.9512 - val_loss: 0.5323 - val_acc: 0.8992\n",
      "Epoch 4/20\n",
      "27455/27455 [==============================] - 737s 27ms/step - loss: 0.2059 - acc: 0.9611 - val_loss: 0.7766 - val_acc: 0.8586\n",
      "Epoch 5/20\n",
      "27455/27455 [==============================] - 698s 25ms/step - loss: 0.2220 - acc: 0.9610 - val_loss: 0.5778 - val_acc: 0.8801\n",
      "Epoch 6/20\n",
      "27455/27455 [==============================] - 657s 24ms/step - loss: 0.2418 - acc: 0.9622 - val_loss: 0.6913 - val_acc: 0.9070\n",
      "Epoch 7/20\n",
      "27455/27455 [==============================] - 693s 25ms/step - loss: 0.2308 - acc: 0.9667 - val_loss: 1.0015 - val_acc: 0.8887\n",
      "Epoch 8/20\n",
      "27455/27455 [==============================] - 700s 26ms/step - loss: 0.2638 - acc: 0.9641 - val_loss: 1.0024 - val_acc: 0.8829\n",
      "Epoch 9/20\n",
      "27455/27455 [==============================] - 741s 27ms/step - loss: 0.2829 - acc: 0.9644 - val_loss: 1.4279 - val_acc: 0.8802\n",
      "Epoch 10/20\n",
      "27455/27455 [==============================] - 743s 27ms/step - loss: 0.3143 - acc: 0.9654 - val_loss: 0.9695 - val_acc: 0.9032\n",
      "Epoch 11/20\n",
      "27455/27455 [==============================] - 754s 27ms/step - loss: 0.2947 - acc: 0.9681 - val_loss: 0.7756 - val_acc: 0.8933\n",
      "Epoch 12/20\n",
      "27455/27455 [==============================] - 863s 31ms/step - loss: 0.3244 - acc: 0.9649 - val_loss: 1.3042 - val_acc: 0.8504\n",
      "Epoch 13/20\n",
      "27455/27455 [==============================] - 876s 32ms/step - loss: 0.3707 - acc: 0.9607 - val_loss: 0.7688 - val_acc: 0.8858\n",
      "Epoch 14/20\n",
      "27455/27455 [==============================] - 875s 32ms/step - loss: 0.3785 - acc: 0.9647 - val_loss: 0.9632 - val_acc: 0.8917\n",
      "Epoch 15/20\n",
      "27455/27455 [==============================] - 879s 32ms/step - loss: 0.4906 - acc: 0.9594 - val_loss: 1.4778 - val_acc: 0.8861\n",
      "Epoch 16/20\n",
      "27455/27455 [==============================] - 883s 32ms/step - loss: 0.4057 - acc: 0.9639 - val_loss: 0.9754 - val_acc: 0.9048\n",
      "Epoch 17/20\n",
      "27455/27455 [==============================] - 838s 31ms/step - loss: 0.3780 - acc: 0.9694 - val_loss: 1.3233 - val_acc: 0.8945\n",
      "Epoch 18/20\n",
      "27455/27455 [==============================] - 650s 24ms/step - loss: 0.5314 - acc: 0.9622 - val_loss: 1.2665 - val_acc: 0.9110\n",
      "Epoch 19/20\n",
      "27455/27455 [==============================] - 704s 26ms/step - loss: 0.5282 - acc: 0.9638 - val_loss: 1.4748 - val_acc: 0.8956\n",
      "Epoch 20/20\n",
      "27455/27455 [==============================] - 729s 27ms/step - loss: 0.6364 - acc: 0.9592 - val_loss: 2.0188 - val_acc: 0.8733\n"
     ]
    },
    {
     "data": {
      "text/plain": [
       "<keras.callbacks.History at 0x2bfa1a394e0>"
      ]
     },
     "execution_count": 13,
     "metadata": {},
     "output_type": "execute_result"
    }
   ],
   "source": [
    "model.fit(train,train_label,validation_data = (test,test_label),epochs = 20,batch_size = 20,shuffle = True)"
   ]
  },
  {
   "cell_type": "code",
   "execution_count": 14,
   "metadata": {},
   "outputs": [
    {
     "name": "stdout",
     "output_type": "stream",
     "text": [
      "7172/7172 [==============================] - 50s 7ms/step\n"
     ]
    },
    {
     "data": {
      "text/plain": [
       "[2.0188293976286436, 0.8732571109871723]"
      ]
     },
     "execution_count": 14,
     "metadata": {},
     "output_type": "execute_result"
    }
   ],
   "source": [
    "model.evaluate(test,test_label)"
   ]
  },
  {
   "cell_type": "code",
   "execution_count": 17,
   "metadata": {},
   "outputs": [],
   "source": [
    "import cv2"
   ]
  },
  {
   "cell_type": "code",
   "execution_count": 22,
   "metadata": {},
   "outputs": [],
   "source": [
    "final = cv2.imread('C:/Users/Dell_Owner/Desktop/test.png',0)"
   ]
  },
  {
   "cell_type": "code",
   "execution_count": 23,
   "metadata": {},
   "outputs": [],
   "source": [
    "arr = np.empty((28,28))"
   ]
  },
  {
   "cell_type": "code",
   "execution_count": 25,
   "metadata": {},
   "outputs": [],
   "source": [
    "for i in range (28):\n",
    "    for j in range (28):\n",
    "        arr[i][j] = final.item(i,j)\n"
   ]
  },
  {
   "cell_type": "code",
   "execution_count": 26,
   "metadata": {},
   "outputs": [],
   "source": [
    "for i in range (28):\n",
    "    for j in range (28):\n",
    "        arr[i][j] = arr[i][j]/255"
   ]
  },
  {
   "cell_type": "code",
   "execution_count": 34,
   "metadata": {},
   "outputs": [],
   "source": [
    "arr = arr.reshape(1,28,28,1)"
   ]
  },
  {
   "cell_type": "code",
   "execution_count": 35,
   "metadata": {},
   "outputs": [
    {
     "data": {
      "text/plain": [
       "(1, 28, 28, 1)"
      ]
     },
     "execution_count": 35,
     "metadata": {},
     "output_type": "execute_result"
    }
   ],
   "source": [
    "arr.shape"
   ]
  },
  {
   "cell_type": "code",
   "execution_count": 58,
   "metadata": {},
   "outputs": [],
   "source": [
    "prediction = model.predict(arr)"
   ]
  },
  {
   "cell_type": "code",
   "execution_count": 59,
   "metadata": {},
   "outputs": [
    {
     "data": {
      "text/plain": [
       "array([[6.8400004e-03, 7.5057685e-02, 7.5445939e-03, 9.2365779e-02,\n",
       "        2.1429285e-02, 2.7487881e-02, 5.0246425e-02, 1.3790096e-01,\n",
       "        2.7620161e-02, 1.0375122e-04, 3.1728853e-02, 4.8464327e-03,\n",
       "        3.5547562e-02, 3.2430828e-02, 2.5554366e-02, 2.7773427e-02,\n",
       "        4.5098606e-02, 7.8849502e-02, 2.8570201e-02, 5.5833701e-02,\n",
       "        4.1314658e-02, 5.7196990e-03, 8.6091049e-03, 1.2994123e-01,\n",
       "        1.5853469e-03]], dtype=float32)"
      ]
     },
     "execution_count": 59,
     "metadata": {},
     "output_type": "execute_result"
    }
   ],
   "source": [
    "prediction"
   ]
  },
  {
   "cell_type": "code",
   "execution_count": 60,
   "metadata": {},
   "outputs": [
    {
     "data": {
      "text/plain": [
       "7"
      ]
     },
     "execution_count": 60,
     "metadata": {},
     "output_type": "execute_result"
    }
   ],
   "source": [
    "np.argmax(prediction[0])"
   ]
  },
  {
   "cell_type": "code",
   "execution_count": null,
   "metadata": {},
   "outputs": [],
   "source": []
  },
  {
   "cell_type": "code",
   "execution_count": null,
   "metadata": {},
   "outputs": [],
   "source": []
  },
  {
   "cell_type": "code",
   "execution_count": null,
   "metadata": {},
   "outputs": [],
   "source": []
  }
 ],
 "metadata": {
  "kernelspec": {
   "display_name": "Python 3",
   "language": "python",
   "name": "python3"
  },
  "language_info": {
   "codemirror_mode": {
    "name": "ipython",
    "version": 3
   },
   "file_extension": ".py",
   "mimetype": "text/x-python",
   "name": "python",
   "nbconvert_exporter": "python",
   "pygments_lexer": "ipython3",
   "version": "3.6.7"
  }
 },
 "nbformat": 4,
 "nbformat_minor": 2
}
