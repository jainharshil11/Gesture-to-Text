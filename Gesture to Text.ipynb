{
 "cells": [
  {
   "cell_type": "code",
   "execution_count": 132,
   "metadata": {},
   "outputs": [],
   "source": [
    "import numpy as np\n",
    "import matplotlib.pyplot as plt\n",
    "from random import randint\n",
    "from sklearn.preprocessing import StandardScaler\n",
    "import keras\n",
    "import pandas as pd\n",
    "import time\n",
    "from keras import backend as K\n",
    "from keras.models import Sequential\n",
    "from keras.layers import LeakyReLU\n",
    "from keras.layers import Activation\n",
    "from keras.layers import Dense\n",
    "from keras.layers import ReLU\n",
    "from keras.layers import BatchNormalization\n",
    "from keras.layers import GaussianNoise\n",
    "from keras.utils import to_categorical\n",
    "from keras import regularizers\n",
    "from keras.layers import Dropout,GaussianDropout\n",
    "from keras.layers.convolutional import Conv2D\n",
    "from keras.layers.convolutional import MaxPooling2D\n",
    "from keras.layers import Flatten"
   ]
  },
  {
   "cell_type": "code",
   "execution_count": 133,
   "metadata": {},
   "outputs": [],
   "source": [
    "train_data = pd.read_csv('C:/Users/Dell_Owner/Desktop/sign_mnist_train.csv')\n",
    "test_data = pd.read_csv('C:/Users/Dell_Owner/Desktop/sign_mnist_test.csv')\n"
   ]
  },
  {
   "cell_type": "code",
   "execution_count": 134,
   "metadata": {},
   "outputs": [],
   "source": [
    "train = np.array(train_data[train_data.columns[train_data.columns!='label']])\n",
    "train_label = np.array(train_data['label'])"
   ]
  },
  {
   "cell_type": "code",
   "execution_count": 135,
   "metadata": {},
   "outputs": [],
   "source": [
    "test = np.array(test_data[test_data.columns[test_data.columns!='label']])\n",
    "test_label = np.array(test_data['label'])\n"
   ]
  },
  {
   "cell_type": "code",
   "execution_count": 136,
   "metadata": {},
   "outputs": [],
   "source": [
    "train_label = to_categorical(train_label)\n",
    "test_label = to_categorical(test_label)"
   ]
  },
  {
   "cell_type": "code",
   "execution_count": 137,
   "metadata": {},
   "outputs": [
    {
     "name": "stdout",
     "output_type": "stream",
     "text": [
      "(7172, 25)\n"
     ]
    }
   ],
   "source": [
    "print(test_label.shape)\n",
    "numberofclasses = test_label.shape[1]"
   ]
  },
  {
   "cell_type": "code",
   "execution_count": 138,
   "metadata": {},
   "outputs": [],
   "source": [
    "train = train.reshape(train.shape[0],28,28,1)\n",
    "test = test.reshape(test.shape[0],28,28,1)"
   ]
  },
  {
   "cell_type": "code",
   "execution_count": 139,
   "metadata": {},
   "outputs": [],
   "source": [
    "train = train/255\n",
    "test = test/255"
   ]
  },
  {
   "cell_type": "code",
   "execution_count": 140,
   "metadata": {},
   "outputs": [],
   "source": [
    "model = Sequential()"
   ]
  },
  {
   "cell_type": "code",
   "execution_count": 141,
   "metadata": {},
   "outputs": [],
   "source": [
    "model.add(GaussianNoise(0.1,input_shape=(28,28,1)))\n",
    "model.add(Conv2D(120,kernel_size = (5,5),strides = (1,1),padding = 'valid',activation = 'relu',input_shape = (28,28,1)))\n",
    "model.add(BatchNormalization())\n",
    "model.add(LeakyReLU(alpha=0.25))\n",
    "model.add(MaxPooling2D(pool_size=(3, 3), strides=(2, 2),padding = 'valid'))\n",
    "model.add(Conv2D(240,kernel_size = (2,2),strides = (1,1),padding = 'valid',activation = 'relu'))\n",
    "model.add(BatchNormalization())\n",
    "model.add(LeakyReLU(alpha=0.25))\n",
    "model.add(MaxPooling2D(pool_size=(3, 3), strides=(2, 2),padding = 'valid'))\n",
    "model.add(Conv2D(480,kernel_size = (2,2),strides = (1,1),padding = 'valid',activation = 'relu'))\n",
    "model.add(LeakyReLU(alpha=0.25))\n",
    "model.add(BatchNormalization())\n",
    "model.add(MaxPooling2D(pool_size=(3, 3), strides=(2, 2),padding = 'valid'))\n",
    "model.add(Flatten())\n",
    "model.add(Dense(300,activation = 'relu'))\n",
    "model.add(BatchNormalization())\n",
    "model.add(Dropout(0.2))\n",
    "model.add(Dense(300,activation = 'relu'))\n",
    "model.add(BatchNormalization())\n",
    "model.add(Dense(300,activation = 'relu'))\n",
    "model.add(BatchNormalization())\n",
    "model.add(Dropout(0.2))\n",
    "model.add(Dense(300,activation = 'relu'))\n",
    "model.add(BatchNormalization())\n",
    "model.add(Dense(300,activation = 'relu'))\n",
    "model.add(BatchNormalization())\n",
    "model.add(Dropout(0.2))\n",
    "model.add(Dense(numberofclasses,activation = 'softmax'))"
   ]
  },
  {
   "cell_type": "code",
   "execution_count": 142,
   "metadata": {},
   "outputs": [],
   "source": [
    "model.compile(optimizer='adam',loss='categorical_crossentropy',metrics=['accuracy'])"
   ]
  },
  {
   "cell_type": "code",
   "execution_count": 143,
   "metadata": {},
   "outputs": [
    {
     "name": "stdout",
     "output_type": "stream",
     "text": [
      "Train on 27455 samples, validate on 7172 samples\n",
      "Epoch 1/20\n",
      "27455/27455 [==============================] - 451s 16ms/step - loss: 1.5279 - acc: 0.5271 - val_loss: 10.0008 - val_acc: 0.1069\n",
      "Epoch 2/20\n",
      "27455/27455 [==============================] - 432s 16ms/step - loss: 0.5178 - acc: 0.8270 - val_loss: 0.8586 - val_acc: 0.7632\n",
      "Epoch 3/20\n",
      "27455/27455 [==============================] - 416s 15ms/step - loss: 0.3247 - acc: 0.8958 - val_loss: 1.3609 - val_acc: 0.6656\n",
      "Epoch 4/20\n",
      "27455/27455 [==============================] - 537s 20ms/step - loss: 0.2570 - acc: 0.9182 - val_loss: 0.9848 - val_acc: 0.7584\n",
      "Epoch 5/20\n",
      "27455/27455 [==============================] - 636s 23ms/step - loss: 0.1870 - acc: 0.9407 - val_loss: 0.6086 - val_acc: 0.8666\n",
      "Epoch 6/20\n",
      "27455/27455 [==============================] - 518s 19ms/step - loss: 0.1735 - acc: 0.9457 - val_loss: 0.3409 - val_acc: 0.9050\n",
      "Epoch 7/20\n",
      "27455/27455 [==============================] - 446s 16ms/step - loss: 0.1428 - acc: 0.9551 - val_loss: 1.8236 - val_acc: 0.8063\n",
      "Epoch 8/20\n",
      "27455/27455 [==============================] - 480s 17ms/step - loss: 0.1155 - acc: 0.9649 - val_loss: 1.0027 - val_acc: 0.7916\n",
      "Epoch 9/20\n",
      "27455/27455 [==============================] - 443s 16ms/step - loss: 0.1266 - acc: 0.9604 - val_loss: 0.2313 - val_acc: 0.9512\n",
      "Epoch 10/20\n",
      "27455/27455 [==============================] - 428s 16ms/step - loss: 0.0934 - acc: 0.9702 - val_loss: 0.8107 - val_acc: 0.8546\n",
      "Epoch 11/20\n",
      "27455/27455 [==============================] - 432s 16ms/step - loss: 0.0833 - acc: 0.9741 - val_loss: 0.3593 - val_acc: 0.9053\n",
      "Epoch 12/20\n",
      "27455/27455 [==============================] - 433s 16ms/step - loss: 0.0867 - acc: 0.9726 - val_loss: 0.2259 - val_acc: 0.9541\n",
      "Epoch 13/20\n",
      "27455/27455 [==============================] - 421s 15ms/step - loss: 0.0735 - acc: 0.9773 - val_loss: 0.8512 - val_acc: 0.8345\n",
      "Epoch 14/20\n",
      "27455/27455 [==============================] - 422s 15ms/step - loss: 0.0653 - acc: 0.9800 - val_loss: 0.2896 - val_acc: 0.9414\n",
      "Epoch 15/20\n",
      "27455/27455 [==============================] - 422s 15ms/step - loss: 0.0667 - acc: 0.9804 - val_loss: 0.1623 - val_acc: 0.9699\n",
      "Epoch 16/20\n",
      "27455/27455 [==============================] - 423s 15ms/step - loss: 0.0635 - acc: 0.9804 - val_loss: 0.2744 - val_acc: 0.9435\n",
      "Epoch 17/20\n",
      "27455/27455 [==============================] - 423s 15ms/step - loss: 0.0625 - acc: 0.9809 - val_loss: 0.5282 - val_acc: 0.8780\n",
      "Epoch 18/20\n",
      "27455/27455 [==============================] - 422s 15ms/step - loss: 0.0659 - acc: 0.9803 - val_loss: 3.4616 - val_acc: 0.7009\n",
      "Epoch 19/20\n",
      "27455/27455 [==============================] - 422s 15ms/step - loss: 0.0476 - acc: 0.9851 - val_loss: 0.2545 - val_acc: 0.9446\n",
      "Epoch 20/20\n",
      "27455/27455 [==============================] - 423s 15ms/step - loss: 0.0563 - acc: 0.9823 - val_loss: 0.1839 - val_acc: 0.9619\n"
     ]
    },
    {
     "data": {
      "text/plain": [
       "<keras.callbacks.History at 0x16b52a3b470>"
      ]
     },
     "execution_count": 143,
     "metadata": {},
     "output_type": "execute_result"
    }
   ],
   "source": [
    "model.fit(train,train_label,validation_data = (test,test_label),epochs = 20,batch_size = 20,shuffle = True)"
   ]
  },
  {
   "cell_type": "code",
   "execution_count": 144,
   "metadata": {},
   "outputs": [
    {
     "name": "stdout",
     "output_type": "stream",
     "text": [
      "7172/7172 [==============================] - 23s 3ms/step\n"
     ]
    },
    {
     "data": {
      "text/plain": [
       "[0.18393847064701535, 0.9619353039598438]"
      ]
     },
     "execution_count": 144,
     "metadata": {},
     "output_type": "execute_result"
    }
   ],
   "source": [
    "model.evaluate(test,test_label)"
   ]
  },
  {
   "cell_type": "code",
   "execution_count": 145,
   "metadata": {},
   "outputs": [],
   "source": [
    "import cv2"
   ]
  },
  {
   "cell_type": "code",
   "execution_count": 146,
   "metadata": {},
   "outputs": [
    {
     "name": "stdout",
     "output_type": "stream",
     "text": [
      "(28, 28)\n"
     ]
    }
   ],
   "source": [
    "final = cv2.imread('C:/Users/Dell_Owner/Desktop/test.png',0)\n",
    "print(final.shape)"
   ]
  },
  {
   "cell_type": "code",
   "execution_count": 147,
   "metadata": {},
   "outputs": [],
   "source": [
    "arr = np.empty((28,28))"
   ]
  },
  {
   "cell_type": "code",
   "execution_count": 148,
   "metadata": {},
   "outputs": [],
   "source": [
    "for i in range (28):\n",
    "    for j in range (28):\n",
    "        arr[i][j] = final.item(i,j)\n"
   ]
  },
  {
   "cell_type": "code",
   "execution_count": 149,
   "metadata": {},
   "outputs": [],
   "source": [
    "for i in range (28):\n",
    "    for j in range (28):\n",
    "        arr[i][j] = arr[i][j]/255"
   ]
  },
  {
   "cell_type": "code",
   "execution_count": 150,
   "metadata": {},
   "outputs": [],
   "source": [
    "arr = arr.reshape(1,28,28,1)"
   ]
  },
  {
   "cell_type": "code",
   "execution_count": 151,
   "metadata": {},
   "outputs": [
    {
     "data": {
      "text/plain": [
       "(1, 28, 28, 1)"
      ]
     },
     "execution_count": 151,
     "metadata": {},
     "output_type": "execute_result"
    }
   ],
   "source": [
    "arr.shape"
   ]
  },
  {
   "cell_type": "code",
   "execution_count": 152,
   "metadata": {},
   "outputs": [],
   "source": [
    "prediction = model.predict(arr)"
   ]
  },
  {
   "cell_type": "code",
   "execution_count": 153,
   "metadata": {},
   "outputs": [
    {
     "data": {
      "text/plain": [
       "array([[5.0610875e-08, 1.1297553e-04, 5.1359925e-09, 4.9966486e-05,\n",
       "        3.8115555e-05, 9.9726057e-01, 4.2218270e-04, 1.8002172e-03,\n",
       "        2.3295917e-04, 9.9068167e-09, 4.8213714e-08, 7.3550063e-07,\n",
       "        3.5566842e-08, 3.2958322e-08, 5.4390961e-07, 5.7507663e-07,\n",
       "        1.9479137e-08, 2.8149993e-06, 3.2612892e-08, 2.5105614e-05,\n",
       "        6.7292262e-06, 4.7077447e-06, 4.1505526e-05, 1.4659825e-08,\n",
       "        1.7029910e-08]], dtype=float32)"
      ]
     },
     "execution_count": 153,
     "metadata": {},
     "output_type": "execute_result"
    }
   ],
   "source": [
    "prediction"
   ]
  },
  {
   "cell_type": "code",
   "execution_count": 154,
   "metadata": {},
   "outputs": [
    {
     "data": {
      "text/plain": [
       "5"
      ]
     },
     "execution_count": 154,
     "metadata": {},
     "output_type": "execute_result"
    }
   ],
   "source": [
    "np.argmax(prediction[0])"
   ]
  },
  {
   "cell_type": "code",
   "execution_count": 170,
   "metadata": {},
   "outputs": [
    {
     "name": "stdout",
     "output_type": "stream",
     "text": [
      "(28, 28)\n"
     ]
    }
   ],
   "source": [
    "final = cv2.imread('C:/Users/Dell_Owner/Desktop/test3.png',0)\n",
    "print(final.shape)\n",
    "arr = np.empty((28,28))"
   ]
  },
  {
   "cell_type": "code",
   "execution_count": 171,
   "metadata": {},
   "outputs": [],
   "source": [
    "for i in range (28):\n",
    "    for j in range (28):\n",
    "        arr[i][j] = final.item(i,j)/255\n"
   ]
  },
  {
   "cell_type": "code",
   "execution_count": 172,
   "metadata": {},
   "outputs": [
    {
     "data": {
      "text/plain": [
       "0"
      ]
     },
     "execution_count": 172,
     "metadata": {},
     "output_type": "execute_result"
    }
   ],
   "source": [
    "arr = arr.reshape(1,28,28,1)\n",
    "prediction = model.predict(arr)\n",
    "np.argmax(prediction[0])"
   ]
  },
  {
   "cell_type": "code",
   "execution_count": null,
   "metadata": {},
   "outputs": [],
   "source": []
  }
 ],
 "metadata": {
  "kernelspec": {
   "display_name": "Python 3",
   "language": "python",
   "name": "python3"
  },
  "language_info": {
   "codemirror_mode": {
    "name": "ipython",
    "version": 3
   },
   "file_extension": ".py",
   "mimetype": "text/x-python",
   "name": "python",
   "nbconvert_exporter": "python",
   "pygments_lexer": "ipython3",
   "version": "3.6.7"
  }
 },
 "nbformat": 4,
 "nbformat_minor": 2
}
